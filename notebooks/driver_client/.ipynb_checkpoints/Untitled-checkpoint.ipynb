{
 "cells": [
  {
   "cell_type": "code",
   "execution_count": 1,
   "metadata": {},
   "outputs": [],
   "source": [
    "import ctypes\n",
    "import sys"
   ]
  },
  {
   "cell_type": "code",
   "execution_count": 2,
   "metadata": {},
   "outputs": [],
   "source": [
    "class _Tag(ctypes.Structure):\n",
    "    # bit fields structure\n",
    "    _fields_ = [\n",
    "        ('act', ctypes.c_size_t, 5),\n",
    "        ('size', ctypes.c_size_t, 8 * ctypes.sizeof(ctypes.c_size_t) - 5)\n",
    "    ]"
   ]
  },
  {
   "cell_type": "code",
   "execution_count": 3,
   "metadata": {},
   "outputs": [],
   "source": [
    "def _2size_t(tag):\n",
    "    return ctypes.cast(\n",
    "        ctypes.pointer(tag),\n",
    "        ctypes.POINTER(ctypes.c_size_t)\n",
    "    ).contents.value"
   ]
  },
  {
   "cell_type": "code",
   "execution_count": 4,
   "metadata": {},
   "outputs": [],
   "source": [
    "def gen_tag(act, size):\n",
    "    \"\"\"Generate a tag\n",
    "\n",
    "    Parameters\n",
    "    ----------\n",
    "    act : int\n",
    "        action flag\n",
    "    size : int\n",
    "        array size information or additional integer information\n",
    "\n",
    "    Returns\n",
    "    -------\n",
    "    int\n",
    "        encoded value\n",
    "\n",
    "    See Also\n",
    "    --------\n",
    "    :func:`decode` : decoding a tag value\n",
    "    \"\"\"\n",
    "    return _2size_t(_Tag(act, size))"
   ]
  },
  {
   "cell_type": "code",
   "execution_count": 5,
   "metadata": {},
   "outputs": [],
   "source": [
    "def decode(tag):\n",
    "    \"\"\"Decode a tag value into action and size\n",
    "\n",
    "    Notes\n",
    "    -----\n",
    "    size can be retrieved by shifting `tag` 5 bits to the rigth, and action can\n",
    "    be got by bitwise and 31. i.e. largest value of 5-bit-integer.\n",
    "\n",
    "    Parameters\n",
    "    ----------\n",
    "    tag : int\n",
    "        tag value\n",
    "\n",
    "    Returns\n",
    "    -------\n",
    "    tuple\n",
    "        a tuple of action and size\n",
    "\n",
    "    See Also\n",
    "    --------\n",
    "    :func:`gen_tag` : generate a tag value\n",
    "\n",
    "    Examples\n",
    "    --------\n",
    "    >>> from pyccx.server.ccx_com import *\n",
    "    >>> decode(gen_tag(Actions.DFLUX, 100))\n",
    "    (4, 100)\n",
    "    \"\"\"\n",
    "    return (tag & 31, tag >> 5)"
   ]
  },
  {
   "cell_type": "code",
   "execution_count": 6,
   "metadata": {},
   "outputs": [
    {
     "data": {
      "text/plain": [
       "(13, 236563)"
      ]
     },
     "execution_count": 6,
     "metadata": {},
     "output_type": "execute_result"
    }
   ],
   "source": [
    "decode(gen_tag(13, 236563))"
   ]
  },
  {
   "cell_type": "code",
   "execution_count": 7,
   "metadata": {},
   "outputs": [],
   "source": [
    "def _size_t2char(tag):\n",
    "    return tag.to_bytes((tag.bit_length()+7)//8, byteorder=sys.byteorder)\n",
    "\n",
    "\n",
    "def _char2size_t(b):\n",
    "    return int.from_bytes(b, byteorder=sys.byteorder)"
   ]
  },
  {
   "cell_type": "code",
   "execution_count": 8,
   "metadata": {},
   "outputs": [
    {
     "data": {
      "text/plain": [
       "(13, 236563)"
      ]
     },
     "execution_count": 8,
     "metadata": {},
     "output_type": "execute_result"
    }
   ],
   "source": [
    "decode(_char2size_t(_size_t2char(gen_tag(13, 2365634253))))"
   ]
  }
 ],
 "metadata": {
  "kernelspec": {
   "display_name": "Python 3",
   "language": "python",
   "name": "python3"
  },
  "language_info": {
   "codemirror_mode": {
    "name": "ipython",
    "version": 3
   },
   "file_extension": ".py",
   "mimetype": "text/x-python",
   "name": "python",
   "nbconvert_exporter": "python",
   "pygments_lexer": "ipython3",
   "version": "3.6.5"
  }
 },
 "nbformat": 4,
 "nbformat_minor": 2
}
